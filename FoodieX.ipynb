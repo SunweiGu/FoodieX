{
 "cells": [
  {
   "attachments": {},
   "cell_type": "markdown",
   "metadata": {},
   "source": [
    " - Section 1: Objective\n",
    "\n",
    "The objective is to draw insights from the restaurant data for food delivery service.\n",
    "\n",
    "\n",
    " - Section 2: Data cleaning and modification"
   ]
  },
  {
   "cell_type": "code",
   "execution_count": 409,
   "metadata": {},
   "outputs": [],
   "source": [
    "import numpy as np # linear algebra\n",
    "import pandas as pd\n",
    "import matplotlib.pyplot as plt\n",
    "from sklearn.cluster import KMeans\n",
    "import statsmodels.formula.api as smf \n",
    "import seaborn as sns\n",
    "import pandas as pd  \n",
    "import numpy as np  \n",
    "from sklearn.ensemble import RandomForestRegressor\n",
    "from sklearn.tree import DecisionTreeRegressor"
   ]
  },
  {
   "cell_type": "code",
   "execution_count": 410,
   "metadata": {},
   "outputs": [],
   "source": [
    "RestaurantData = pd.read_csv('2020-XTern-DS.csv')\n",
    "# RestaurantData.head(50)\n",
    "# RestaurantData.shape \n",
    "# RestaurantData.dtypes"
   ]
  },
  {
   "cell_type": "markdown",
   "metadata": {},
   "source": [
    "1) Duplicated Restaurant ID"
   ]
  },
  {
   "cell_type": "code",
   "execution_count": 411,
   "metadata": {},
   "outputs": [
    {
     "name": "stdout",
     "output_type": "stream",
     "text": [
      "ID_1004 has 2 observations\n",
      "ID_1074 has 2 observations\n",
      "ID_1140 has 3 observations\n",
      "ID_1156 has 3 observations\n",
      "ID_1166 has 2 observations\n",
      "ID_1175 has 3 observations\n",
      "ID_1204 has 2 observations\n",
      "ID_1209 has 4 observations\n",
      "ID_1270 has 2 observations\n",
      "ID_147 has 2 observations\n",
      "ID_1521 has 2 observations\n",
      "ID_1532 has 2 observations\n",
      "ID_1555 has 2 observations\n",
      "ID_1631 has 2 observations\n",
      "ID_1721 has 2 observations\n",
      "ID_1784 has 2 observations\n",
      "ID_1796 has 3 observations\n",
      "ID_18 has 2 observations\n",
      "ID_1867 has 2 observations\n",
      "ID_188 has 5 observations\n",
      "ID_1902 has 2 observations\n",
      "ID_1966 has 2 observations\n",
      "ID_2034 has 2 observations\n",
      "ID_207 has 2 observations\n",
      "ID_2083 has 2 observations\n",
      "ID_2116 has 2 observations\n",
      "ID_2132 has 2 observations\n",
      "ID_2301 has 4 observations\n",
      "ID_2356 has 2 observations\n",
      "ID_2376 has 2 observations\n",
      "ID_2402 has 3 observations\n",
      "ID_2483 has 5 observations\n",
      "ID_2542 has 2 observations\n",
      "ID_2595 has 2 observations\n",
      "ID_2648 has 2 observations\n",
      "ID_2678 has 2 observations\n",
      "ID_2718 has 3 observations\n",
      "ID_2733 has 2 observations\n",
      "ID_2772 has 3 observations\n",
      "ID_2785 has 2 observations\n",
      "ID_2794 has 2 observations\n",
      "ID_2833 has 2 observations\n",
      "ID_2879 has 2 observations\n",
      "ID_2970 has 2 observations\n",
      "ID_2977 has 3 observations\n",
      "ID_3071 has 2 observations\n",
      "ID_3116 has 2 observations\n",
      "ID_3117 has 2 observations\n",
      "ID_3309 has 2 observations\n",
      "ID_3374 has 2 observations\n",
      "ID_342 has 2 observations\n",
      "ID_3431 has 2 observations\n",
      "ID_3474 has 2 observations\n",
      "ID_3556 has 2 observations\n",
      "ID_3629 has 2 observations\n",
      "ID_3755 has 2 observations\n",
      "ID_3777 has 3 observations\n",
      "ID_3806 has 2 observations\n",
      "ID_3846 has 2 observations\n",
      "ID_3871 has 2 observations\n",
      "ID_3957 has 2 observations\n",
      "ID_3969 has 3 observations\n",
      "ID_3970 has 2 observations\n",
      "ID_4124 has 2 observations\n",
      "ID_4137 has 2 observations\n",
      "ID_4151 has 2 observations\n",
      "ID_4189 has 2 observations\n",
      "ID_4202 has 2 observations\n",
      "ID_4216 has 2 observations\n",
      "ID_427 has 2 observations\n",
      "ID_4298 has 2 observations\n",
      "ID_4345 has 2 observations\n",
      "ID_4468 has 3 observations\n",
      "ID_456 has 2 observations\n",
      "ID_4562 has 2 observations\n",
      "ID_4609 has 2 observations\n",
      "ID_4625 has 7 observations\n",
      "ID_4652 has 3 observations\n",
      "ID_4654 has 4 observations\n",
      "ID_4793 has 2 observations\n",
      "ID_4797 has 2 observations\n",
      "ID_4847 has 2 observations\n",
      "ID_4855 has 2 observations\n",
      "ID_4908 has 2 observations\n",
      "ID_4914 has 2 observations\n",
      "ID_4972 has 2 observations\n",
      "ID_5054 has 2 observations\n",
      "ID_5097 has 2 observations\n",
      "ID_515 has 2 observations\n",
      "ID_5321 has 2 observations\n",
      "ID_5499 has 2 observations\n",
      "ID_5538 has 3 observations\n",
      "ID_5652 has 2 observations\n",
      "ID_5708 has 5 observations\n",
      "ID_5764 has 2 observations\n",
      "ID_5879 has 2 observations\n",
      "ID_5885 has 4 observations\n",
      "ID_5952 has 2 observations\n",
      "ID_5964 has 2 observations\n",
      "ID_5976 has 2 observations\n",
      "ID_6013 has 2 observations\n",
      "ID_6027 has 2 observations\n",
      "ID_6054 has 2 observations\n",
      "ID_6107 has 2 observations\n",
      "ID_6145 has 2 observations\n",
      "ID_6163 has 2 observations\n",
      "ID_6205 has 2 observations\n",
      "ID_6236 has 2 observations\n",
      "ID_6312 has 2 observations\n",
      "ID_635 has 2 observations\n",
      "ID_6406 has 2 observations\n",
      "ID_6588 has 2 observations\n",
      "ID_6619 has 2 observations\n",
      "ID_6637 has 2 observations\n",
      "ID_6699 has 3 observations\n",
      "ID_6705 has 2 observations\n",
      "ID_6706 has 3 observations\n",
      "ID_6738 has 2 observations\n",
      "ID_6774 has 2 observations\n",
      "ID_6879 has 2 observations\n",
      "ID_6882 has 2 observations\n",
      "ID_6952 has 2 observations\n",
      "ID_699 has 2 observations\n",
      "ID_7067 has 2 observations\n",
      "ID_7072 has 2 observations\n",
      "ID_7082 has 2 observations\n",
      "ID_7184 has 5 observations\n",
      "ID_7260 has 7 observations\n",
      "ID_7271 has 3 observations\n",
      "ID_7295 has 4 observations\n",
      "ID_7299 has 2 observations\n",
      "ID_745 has 2 observations\n",
      "ID_7468 has 2 observations\n",
      "ID_7497 has 2 observations\n",
      "ID_7501 has 2 observations\n",
      "ID_7516 has 3 observations\n",
      "ID_7544 has 3 observations\n",
      "ID_7564 has 3 observations\n",
      "ID_7727 has 2 observations\n",
      "ID_7750 has 2 observations\n",
      "ID_781 has 2 observations\n",
      "ID_7897 has 2 observations\n",
      "ID_7959 has 2 observations\n",
      "ID_8020 has 2 observations\n",
      "ID_8026 has 2 observations\n",
      "ID_8051 has 2 observations\n",
      "ID_8170 has 2 observations\n",
      "ID_8233 has 2 observations\n",
      "ID_8281 has 2 observations\n",
      "ID_8287 has 2 observations\n",
      "ID_8343 has 2 observations\n",
      "ID_8403 has 2 observations\n",
      "ID_8438 has 2 observations\n",
      "ID_8443 has 2 observations\n",
      "ID_8450 has 2 observations\n",
      "ID_847 has 2 observations\n",
      "ID_8506 has 2 observations\n",
      "ID_8606 has 2 observations\n",
      "ID_861 has 2 observations\n",
      "ID_911 has 3 observations\n"
     ]
    }
   ],
   "source": [
    "ResID = RestaurantData.groupby(['Restaurant']).Restaurant.count()\n",
    "for i in range(len(ResID)):\n",
    "    if ResID[i] > 1:\n",
    "        print(ResID.index[i], 'has', ResID[i],'observations')"
   ]
  },
  {
   "cell_type": "code",
   "execution_count": 412,
   "metadata": {},
   "outputs": [],
   "source": [
    "ResLocation = RestaurantData.groupby(['Latitude','Longitude']).Restaurant.count()\n",
    "for i in range(len(ResLocation)):\n",
    "    if ResLocation[i] > 1:\n",
    "        print(ResLocation.index[i], 'has', ResLocation[i],'observations')\n",
    "\n",
    "    "
   ]
  },
  {
   "cell_type": "markdown",
   "metadata": {},
   "source": [
    "As shown, although restaurant ID have duplicated numbers, different observations have different locations, which means we can treat different rows as different restaurant. Take an example:\n",
    "\n",
    "    "
   ]
  },
  {
   "cell_type": "code",
   "execution_count": 413,
   "metadata": {},
   "outputs": [
    {
     "data": {
      "text/html": [
       "<div>\n",
       "<style scoped>\n",
       "    .dataframe tbody tr th:only-of-type {\n",
       "        vertical-align: middle;\n",
       "    }\n",
       "\n",
       "    .dataframe tbody tr th {\n",
       "        vertical-align: top;\n",
       "    }\n",
       "\n",
       "    .dataframe thead th {\n",
       "        text-align: right;\n",
       "    }\n",
       "</style>\n",
       "<table border=\"1\" class=\"dataframe\">\n",
       "  <thead>\n",
       "    <tr style=\"text-align: right;\">\n",
       "      <th></th>\n",
       "      <th>Restaurant</th>\n",
       "      <th>Latitude</th>\n",
       "      <th>Longitude</th>\n",
       "      <th>Cuisines</th>\n",
       "      <th>Average_Cost</th>\n",
       "      <th>Minimum_Order</th>\n",
       "      <th>Rating</th>\n",
       "      <th>Votes</th>\n",
       "      <th>Reviews</th>\n",
       "      <th>Cook_Time</th>\n",
       "    </tr>\n",
       "  </thead>\n",
       "  <tbody>\n",
       "    <tr>\n",
       "      <th>206</th>\n",
       "      <td>ID_188</td>\n",
       "      <td>39.505842</td>\n",
       "      <td>-85.643108</td>\n",
       "      <td>North Indian, Mughlai</td>\n",
       "      <td>$15.00</td>\n",
       "      <td>$50.00</td>\n",
       "      <td>3.3</td>\n",
       "      <td>4</td>\n",
       "      <td>2</td>\n",
       "      <td>30 minutes</td>\n",
       "    </tr>\n",
       "    <tr>\n",
       "      <th>361</th>\n",
       "      <td>ID_188</td>\n",
       "      <td>39.829219</td>\n",
       "      <td>-85.855595</td>\n",
       "      <td>North Indian, Mughlai</td>\n",
       "      <td>$15.00</td>\n",
       "      <td>$50.00</td>\n",
       "      <td>2.8</td>\n",
       "      <td>-</td>\n",
       "      <td>-</td>\n",
       "      <td>30 minutes</td>\n",
       "    </tr>\n",
       "    <tr>\n",
       "      <th>1312</th>\n",
       "      <td>ID_188</td>\n",
       "      <td>39.832759</td>\n",
       "      <td>-85.418297</td>\n",
       "      <td>North Indian, Mughlai</td>\n",
       "      <td>$15.00</td>\n",
       "      <td>$50.00</td>\n",
       "      <td>3.3</td>\n",
       "      <td>12</td>\n",
       "      <td>3</td>\n",
       "      <td>30 minutes</td>\n",
       "    </tr>\n",
       "    <tr>\n",
       "      <th>1806</th>\n",
       "      <td>ID_188</td>\n",
       "      <td>39.589548</td>\n",
       "      <td>-85.077852</td>\n",
       "      <td>North Indian, Mughlai, Beverages</td>\n",
       "      <td>$15.00</td>\n",
       "      <td>$50.00</td>\n",
       "      <td>3.2</td>\n",
       "      <td>13</td>\n",
       "      <td>2</td>\n",
       "      <td>30 minutes</td>\n",
       "    </tr>\n",
       "    <tr>\n",
       "      <th>1826</th>\n",
       "      <td>ID_188</td>\n",
       "      <td>39.113495</td>\n",
       "      <td>-85.365590</td>\n",
       "      <td>North Indian, Mughlai</td>\n",
       "      <td>$15.00</td>\n",
       "      <td>$50.00</td>\n",
       "      <td>2.8</td>\n",
       "      <td>-</td>\n",
       "      <td>-</td>\n",
       "      <td>30 minutes</td>\n",
       "    </tr>\n",
       "  </tbody>\n",
       "</table>\n",
       "</div>"
      ],
      "text/plain": [
       "     Restaurant   Latitude  Longitude                          Cuisines  \\\n",
       "206      ID_188  39.505842 -85.643108             North Indian, Mughlai   \n",
       "361      ID_188  39.829219 -85.855595             North Indian, Mughlai   \n",
       "1312     ID_188  39.832759 -85.418297             North Indian, Mughlai   \n",
       "1806     ID_188  39.589548 -85.077852  North Indian, Mughlai, Beverages   \n",
       "1826     ID_188  39.113495 -85.365590             North Indian, Mughlai   \n",
       "\n",
       "     Average_Cost Minimum_Order Rating Votes Reviews   Cook_Time  \n",
       "206        $15.00        $50.00    3.3     4       2  30 minutes  \n",
       "361        $15.00        $50.00    2.8     -       -  30 minutes  \n",
       "1312       $15.00        $50.00    3.3    12       3  30 minutes  \n",
       "1806       $15.00        $50.00    3.2    13       2  30 minutes  \n",
       "1826       $15.00        $50.00    2.8     -       -  30 minutes  "
      ]
     },
     "execution_count": 413,
     "metadata": {},
     "output_type": "execute_result"
    }
   ],
   "source": [
    "RestaurantData.loc[RestaurantData.Restaurant == 'ID_188']"
   ]
  },
  {
   "cell_type": "markdown",
   "metadata": {},
   "source": [
    "2) The feature \"Cuisines\" is a combined feature of different type. Thus, dummy variables will be created to identity what type of food the restaurant will provide:"
   ]
  },
  {
   "cell_type": "code",
   "execution_count": 414,
   "metadata": {},
   "outputs": [],
   "source": [
    "# RestaurantData.Cuisines.unique()\n",
    "category = []\n",
    "for i in range(RestaurantData.shape[0]):\n",
    "    temp_list  = RestaurantData.Cuisines[i].split(', ')\n",
    "    for j in temp_list:\n",
    "        if j not in category:\n",
    "            category.append(j)\n",
    "\n",
    "for n in category:\n",
    "    RestaurantData[n] = 0\n",
    "for i in range(RestaurantData.shape[0]):\n",
    "    temp_list  = RestaurantData.Cuisines[i].split(', ')\n",
    "    for n in category:\n",
    "        if n in temp_list:\n",
    "            RestaurantData.loc[i, n] = 1"
   ]
  },
  {
   "cell_type": "markdown",
   "metadata": {},
   "source": [
    "Here are the food types:"
   ]
  },
  {
   "cell_type": "code",
   "execution_count": 415,
   "metadata": {},
   "outputs": [
    {
     "name": "stdout",
     "output_type": "stream",
     "text": [
      "['Fast Food', 'Rolls', 'Burger', 'Salad', 'Wraps', 'Ice Cream', 'Desserts', 'Italian', 'Street Food', 'Mughlai', 'North Indian', 'Chinese', 'Cafe', 'Beverages', 'South Indian', 'Thai', 'Asian', 'Mithai', 'Momos', 'Indonesian', 'Biryani', 'Kerala', 'Bihari', 'Mexican', 'Japanese', 'Bakery', 'Burmese', 'Bubble Tea', 'Tea', 'Pizza', 'Lucknowi', 'Mangalorean', 'European', 'Continental', 'Sandwich', 'Healthy Food', 'Bengali', 'American', 'Mishti', 'Hyderabadi', 'Andhra', 'Assamese', 'Maharashtrian', 'German', 'Arabian', 'Finger Food', 'Kebab', 'Chettinad', 'Seafood', 'Juices', 'Parsi', 'Sushi', 'Odia', 'Tamil', 'Cantonese', 'North Eastern', 'Tibetan', 'Lebanese', 'Spanish', 'Bar Food', 'Konkan', 'Paan', 'Steak', 'Mediterranean', 'Bohri', 'Afghan', 'Goan', 'Gujarati', 'BBQ', 'Raw Meats', 'Malaysian', 'Vietnamese', 'Sri Lankan', 'Rajasthani', 'Poké', 'Roast Chicken', 'Coffee', 'Brazilian', 'Belgian', 'Naga', 'Korean', 'Modern Indian', 'Awadhi', 'Kashmiri', 'French', 'Portuguese', 'Charcoal Chicken', 'Frozen Yogurt', 'Bangladeshi']\n"
     ]
    }
   ],
   "source": [
    " print(category)"
   ]
  },
  {
   "cell_type": "markdown",
   "metadata": {},
   "source": [
    "Here is the new dataset:"
   ]
  },
  {
   "cell_type": "code",
   "execution_count": 416,
   "metadata": {},
   "outputs": [
    {
     "data": {
      "text/html": [
       "<div>\n",
       "<style scoped>\n",
       "    .dataframe tbody tr th:only-of-type {\n",
       "        vertical-align: middle;\n",
       "    }\n",
       "\n",
       "    .dataframe tbody tr th {\n",
       "        vertical-align: top;\n",
       "    }\n",
       "\n",
       "    .dataframe thead th {\n",
       "        text-align: right;\n",
       "    }\n",
       "</style>\n",
       "<table border=\"1\" class=\"dataframe\">\n",
       "  <thead>\n",
       "    <tr style=\"text-align: right;\">\n",
       "      <th></th>\n",
       "      <th>Restaurant</th>\n",
       "      <th>Latitude</th>\n",
       "      <th>Longitude</th>\n",
       "      <th>Cuisines</th>\n",
       "      <th>Average_Cost</th>\n",
       "      <th>Minimum_Order</th>\n",
       "      <th>Rating</th>\n",
       "      <th>Votes</th>\n",
       "      <th>Reviews</th>\n",
       "      <th>Cook_Time</th>\n",
       "      <th>...</th>\n",
       "      <th>Naga</th>\n",
       "      <th>Korean</th>\n",
       "      <th>Modern Indian</th>\n",
       "      <th>Awadhi</th>\n",
       "      <th>Kashmiri</th>\n",
       "      <th>French</th>\n",
       "      <th>Portuguese</th>\n",
       "      <th>Charcoal Chicken</th>\n",
       "      <th>Frozen Yogurt</th>\n",
       "      <th>Bangladeshi</th>\n",
       "    </tr>\n",
       "  </thead>\n",
       "  <tbody>\n",
       "    <tr>\n",
       "      <th>0</th>\n",
       "      <td>ID_6321</td>\n",
       "      <td>39.262605</td>\n",
       "      <td>-85.837372</td>\n",
       "      <td>Fast Food, Rolls, Burger, Salad, Wraps</td>\n",
       "      <td>$20.00</td>\n",
       "      <td>$50.00</td>\n",
       "      <td>3.5</td>\n",
       "      <td>12</td>\n",
       "      <td>4</td>\n",
       "      <td>30 minutes</td>\n",
       "      <td>...</td>\n",
       "      <td>0</td>\n",
       "      <td>0</td>\n",
       "      <td>0</td>\n",
       "      <td>0</td>\n",
       "      <td>0</td>\n",
       "      <td>0</td>\n",
       "      <td>0</td>\n",
       "      <td>0</td>\n",
       "      <td>0</td>\n",
       "      <td>0</td>\n",
       "    </tr>\n",
       "    <tr>\n",
       "      <th>1</th>\n",
       "      <td>ID_2882</td>\n",
       "      <td>39.775933</td>\n",
       "      <td>-85.740581</td>\n",
       "      <td>Ice Cream, Desserts</td>\n",
       "      <td>$10.00</td>\n",
       "      <td>$50.00</td>\n",
       "      <td>3.5</td>\n",
       "      <td>11</td>\n",
       "      <td>4</td>\n",
       "      <td>30 minutes</td>\n",
       "      <td>...</td>\n",
       "      <td>0</td>\n",
       "      <td>0</td>\n",
       "      <td>0</td>\n",
       "      <td>0</td>\n",
       "      <td>0</td>\n",
       "      <td>0</td>\n",
       "      <td>0</td>\n",
       "      <td>0</td>\n",
       "      <td>0</td>\n",
       "      <td>0</td>\n",
       "    </tr>\n",
       "    <tr>\n",
       "      <th>2</th>\n",
       "      <td>ID_1595</td>\n",
       "      <td>39.253436</td>\n",
       "      <td>-85.123779</td>\n",
       "      <td>Italian, Street Food, Fast Food</td>\n",
       "      <td>$15.00</td>\n",
       "      <td>$50.00</td>\n",
       "      <td>3.6</td>\n",
       "      <td>99</td>\n",
       "      <td>30</td>\n",
       "      <td>65 minutes</td>\n",
       "      <td>...</td>\n",
       "      <td>0</td>\n",
       "      <td>0</td>\n",
       "      <td>0</td>\n",
       "      <td>0</td>\n",
       "      <td>0</td>\n",
       "      <td>0</td>\n",
       "      <td>0</td>\n",
       "      <td>0</td>\n",
       "      <td>0</td>\n",
       "      <td>0</td>\n",
       "    </tr>\n",
       "    <tr>\n",
       "      <th>3</th>\n",
       "      <td>ID_5929</td>\n",
       "      <td>39.029841</td>\n",
       "      <td>-85.332050</td>\n",
       "      <td>Mughlai, North Indian, Chinese</td>\n",
       "      <td>$25.00</td>\n",
       "      <td>$99.00</td>\n",
       "      <td>3.7</td>\n",
       "      <td>176</td>\n",
       "      <td>95</td>\n",
       "      <td>30 minutes</td>\n",
       "      <td>...</td>\n",
       "      <td>0</td>\n",
       "      <td>0</td>\n",
       "      <td>0</td>\n",
       "      <td>0</td>\n",
       "      <td>0</td>\n",
       "      <td>0</td>\n",
       "      <td>0</td>\n",
       "      <td>0</td>\n",
       "      <td>0</td>\n",
       "      <td>0</td>\n",
       "    </tr>\n",
       "    <tr>\n",
       "      <th>4</th>\n",
       "      <td>ID_6123</td>\n",
       "      <td>39.882284</td>\n",
       "      <td>-85.517407</td>\n",
       "      <td>Cafe, Beverages</td>\n",
       "      <td>$20.00</td>\n",
       "      <td>$99.00</td>\n",
       "      <td>3.2</td>\n",
       "      <td>521</td>\n",
       "      <td>235</td>\n",
       "      <td>65 minutes</td>\n",
       "      <td>...</td>\n",
       "      <td>0</td>\n",
       "      <td>0</td>\n",
       "      <td>0</td>\n",
       "      <td>0</td>\n",
       "      <td>0</td>\n",
       "      <td>0</td>\n",
       "      <td>0</td>\n",
       "      <td>0</td>\n",
       "      <td>0</td>\n",
       "      <td>0</td>\n",
       "    </tr>\n",
       "    <tr>\n",
       "      <th>5</th>\n",
       "      <td>ID_5221</td>\n",
       "      <td>39.370441</td>\n",
       "      <td>-85.739516</td>\n",
       "      <td>South Indian, North Indian, Chinese</td>\n",
       "      <td>$15.00</td>\n",
       "      <td>$50.00</td>\n",
       "      <td>3.8</td>\n",
       "      <td>46</td>\n",
       "      <td>18</td>\n",
       "      <td>30 minutes</td>\n",
       "      <td>...</td>\n",
       "      <td>0</td>\n",
       "      <td>0</td>\n",
       "      <td>0</td>\n",
       "      <td>0</td>\n",
       "      <td>0</td>\n",
       "      <td>0</td>\n",
       "      <td>0</td>\n",
       "      <td>0</td>\n",
       "      <td>0</td>\n",
       "      <td>0</td>\n",
       "    </tr>\n",
       "    <tr>\n",
       "      <th>6</th>\n",
       "      <td>ID_3777</td>\n",
       "      <td>39.821806</td>\n",
       "      <td>-85.005577</td>\n",
       "      <td>Beverages, Fast Food</td>\n",
       "      <td>$15.00</td>\n",
       "      <td>$50.00</td>\n",
       "      <td>3.7</td>\n",
       "      <td>108</td>\n",
       "      <td>31</td>\n",
       "      <td>30 minutes</td>\n",
       "      <td>...</td>\n",
       "      <td>0</td>\n",
       "      <td>0</td>\n",
       "      <td>0</td>\n",
       "      <td>0</td>\n",
       "      <td>0</td>\n",
       "      <td>0</td>\n",
       "      <td>0</td>\n",
       "      <td>0</td>\n",
       "      <td>0</td>\n",
       "      <td>0</td>\n",
       "    </tr>\n",
       "    <tr>\n",
       "      <th>7</th>\n",
       "      <td>ID_745</td>\n",
       "      <td>39.280324</td>\n",
       "      <td>-85.144363</td>\n",
       "      <td>Chinese, Thai, Asian</td>\n",
       "      <td>$65.00</td>\n",
       "      <td>$50.00</td>\n",
       "      <td>4.0</td>\n",
       "      <td>1731</td>\n",
       "      <td>1235</td>\n",
       "      <td>45 minutes</td>\n",
       "      <td>...</td>\n",
       "      <td>0</td>\n",
       "      <td>0</td>\n",
       "      <td>0</td>\n",
       "      <td>0</td>\n",
       "      <td>0</td>\n",
       "      <td>0</td>\n",
       "      <td>0</td>\n",
       "      <td>0</td>\n",
       "      <td>0</td>\n",
       "      <td>0</td>\n",
       "    </tr>\n",
       "    <tr>\n",
       "      <th>8</th>\n",
       "      <td>ID_2970</td>\n",
       "      <td>39.268816</td>\n",
       "      <td>-85.602168</td>\n",
       "      <td>Mithai, Street Food</td>\n",
       "      <td>$10.00</td>\n",
       "      <td>$50.00</td>\n",
       "      <td>3.9</td>\n",
       "      <td>110</td>\n",
       "      <td>26</td>\n",
       "      <td>30 minutes</td>\n",
       "      <td>...</td>\n",
       "      <td>0</td>\n",
       "      <td>0</td>\n",
       "      <td>0</td>\n",
       "      <td>0</td>\n",
       "      <td>0</td>\n",
       "      <td>0</td>\n",
       "      <td>0</td>\n",
       "      <td>0</td>\n",
       "      <td>0</td>\n",
       "      <td>0</td>\n",
       "    </tr>\n",
       "    <tr>\n",
       "      <th>9</th>\n",
       "      <td>ID_3474</td>\n",
       "      <td>39.874521</td>\n",
       "      <td>-85.439963</td>\n",
       "      <td>Fast Food, North Indian, Rolls, Chinese, Momos...</td>\n",
       "      <td>$20.00</td>\n",
       "      <td>$50.00</td>\n",
       "      <td>3.9</td>\n",
       "      <td>562</td>\n",
       "      <td>294</td>\n",
       "      <td>65 minutes</td>\n",
       "      <td>...</td>\n",
       "      <td>0</td>\n",
       "      <td>0</td>\n",
       "      <td>0</td>\n",
       "      <td>0</td>\n",
       "      <td>0</td>\n",
       "      <td>0</td>\n",
       "      <td>0</td>\n",
       "      <td>0</td>\n",
       "      <td>0</td>\n",
       "      <td>0</td>\n",
       "    </tr>\n",
       "  </tbody>\n",
       "</table>\n",
       "<p>10 rows × 99 columns</p>\n",
       "</div>"
      ],
      "text/plain": [
       "  Restaurant   Latitude  Longitude  \\\n",
       "0    ID_6321  39.262605 -85.837372   \n",
       "1    ID_2882  39.775933 -85.740581   \n",
       "2    ID_1595  39.253436 -85.123779   \n",
       "3    ID_5929  39.029841 -85.332050   \n",
       "4    ID_6123  39.882284 -85.517407   \n",
       "5    ID_5221  39.370441 -85.739516   \n",
       "6    ID_3777  39.821806 -85.005577   \n",
       "7     ID_745  39.280324 -85.144363   \n",
       "8    ID_2970  39.268816 -85.602168   \n",
       "9    ID_3474  39.874521 -85.439963   \n",
       "\n",
       "                                            Cuisines Average_Cost  \\\n",
       "0             Fast Food, Rolls, Burger, Salad, Wraps       $20.00   \n",
       "1                                Ice Cream, Desserts       $10.00   \n",
       "2                    Italian, Street Food, Fast Food       $15.00   \n",
       "3                     Mughlai, North Indian, Chinese       $25.00   \n",
       "4                                    Cafe, Beverages       $20.00   \n",
       "5                South Indian, North Indian, Chinese       $15.00   \n",
       "6                               Beverages, Fast Food       $15.00   \n",
       "7                               Chinese, Thai, Asian       $65.00   \n",
       "8                                Mithai, Street Food       $10.00   \n",
       "9  Fast Food, North Indian, Rolls, Chinese, Momos...       $20.00   \n",
       "\n",
       "  Minimum_Order Rating Votes Reviews   Cook_Time  ...  Naga  Korean  \\\n",
       "0        $50.00    3.5    12       4  30 minutes  ...     0       0   \n",
       "1        $50.00    3.5    11       4  30 minutes  ...     0       0   \n",
       "2        $50.00    3.6    99      30  65 minutes  ...     0       0   \n",
       "3        $99.00    3.7   176      95  30 minutes  ...     0       0   \n",
       "4        $99.00    3.2   521     235  65 minutes  ...     0       0   \n",
       "5        $50.00    3.8    46      18  30 minutes  ...     0       0   \n",
       "6        $50.00    3.7   108      31  30 minutes  ...     0       0   \n",
       "7        $50.00    4.0  1731    1235  45 minutes  ...     0       0   \n",
       "8        $50.00    3.9   110      26  30 minutes  ...     0       0   \n",
       "9        $50.00    3.9   562     294  65 minutes  ...     0       0   \n",
       "\n",
       "   Modern Indian  Awadhi  Kashmiri  French  Portuguese  Charcoal Chicken  \\\n",
       "0              0       0         0       0           0                 0   \n",
       "1              0       0         0       0           0                 0   \n",
       "2              0       0         0       0           0                 0   \n",
       "3              0       0         0       0           0                 0   \n",
       "4              0       0         0       0           0                 0   \n",
       "5              0       0         0       0           0                 0   \n",
       "6              0       0         0       0           0                 0   \n",
       "7              0       0         0       0           0                 0   \n",
       "8              0       0         0       0           0                 0   \n",
       "9              0       0         0       0           0                 0   \n",
       "\n",
       "   Frozen Yogurt  Bangladeshi  \n",
       "0              0            0  \n",
       "1              0            0  \n",
       "2              0            0  \n",
       "3              0            0  \n",
       "4              0            0  \n",
       "5              0            0  \n",
       "6              0            0  \n",
       "7              0            0  \n",
       "8              0            0  \n",
       "9              0            0  \n",
       "\n",
       "[10 rows x 99 columns]"
      ]
     },
     "execution_count": 416,
     "metadata": {},
     "output_type": "execute_result"
    }
   ],
   "source": [
    "RestaurantData.head(10)"
   ]
  },
  {
   "cell_type": "markdown",
   "metadata": {},
   "source": [
    "3) Variables \"Average_Cost\tMinimum_Order\tRating\tVotes\tReviews\tCook_Time\" can be adjusted to the type: float to conduct further analysis  \n",
    "Note: \"Rating\" has 3 special values: New, Opening soon, -, all of which indicate that this restaurant has no rating, reviews or votes. Thus, we can treat it as the same category."
   ]
  },
  {
   "cell_type": "code",
   "execution_count": 417,
   "metadata": {},
   "outputs": [],
   "source": [
    "# RestaurantData.Average_Cost.unique()\n",
    "RestaurantData.Average_Cost = RestaurantData.Average_Cost.apply(lambda x: x.replace('$','')).apply(lambda x: x.replace(',','')).astype(np.float64)\n",
    "# RestaurantData.Average_Cost.describe()\n",
    "\n",
    "# RestaurantData.Minimum_Order.unique()\n",
    "RestaurantData.Minimum_Order = RestaurantData.Minimum_Order.apply(lambda x: x.replace('$','')).astype(np.float64)\n",
    "# RestaurantData.Minimum_Order.describe()\n",
    "\n",
    "# RestaurantData.Rating.unique()\n",
    "# RestaurantData.Rating.value_counts()\n",
    "RestaurantData.Rating = RestaurantData.Rating.apply(lambda x: x.replace('NEW','-')).apply(lambda x: x.replace('Opening Soon','-'))\n",
    "\n",
    "# RestaurantData.Votes.unique()\n",
    "# RestaurantData.Votes.value_counts()\n",
    "RestaurantData.Votes = RestaurantData.Votes.apply(lambda x: x.replace('-','0')).astype(np.float64)\n",
    "\n",
    "# RestaurantData.Reviews.unique()\n",
    "# RestaurantData.Reviews.value_counts()\n",
    "RestaurantData.Reviews = RestaurantData.Reviews.apply(lambda x: x.replace('-','0')).astype(np.float64)\n",
    "# RestaurantData.Reviews.describe()\n",
    "\n",
    "# RestaurantData.Cook_Time.unique()\n",
    "RestaurantData.Cook_Time = RestaurantData.Cook_Time.apply(lambda x: x.replace(' minutes','')).astype(np.float64)\n",
    "# RestaurantData.Cook_Time.describe()"
   ]
  },
  {
   "cell_type": "markdown",
   "metadata": {},
   "source": [
    "- Section 3: Conclusions"
   ]
  },
  {
   "cell_type": "markdown",
   "metadata": {},
   "source": [
    "(1.1) Trending of food:  \n",
    "What types of cuisines have the highest average rating / average number of reviews / average number of votes  \n",
    "Note: only taking those restaurants with ratings"
   ]
  },
  {
   "cell_type": "code",
   "execution_count": 418,
   "metadata": {},
   "outputs": [
    {
     "name": "stderr",
     "output_type": "stream",
     "text": [
      "/Users/gusunwei/opt/anaconda3/lib/python3.8/site-packages/pandas/core/generic.py:5303: SettingWithCopyWarning: \n",
      "A value is trying to be set on a copy of a slice from a DataFrame.\n",
      "Try using .loc[row_indexer,col_indexer] = value instead\n",
      "\n",
      "See the caveats in the documentation: https://pandas.pydata.org/pandas-docs/stable/user_guide/indexing.html#returning-a-view-versus-a-copy\n",
      "  self[name] = value\n"
     ]
    },
    {
     "data": {
      "text/plain": [
       "<matplotlib.axes._subplots.AxesSubplot at 0x7ffd8a1ea070>"
      ]
     },
     "execution_count": 418,
     "metadata": {},
     "output_type": "execute_result"
    },
    {
     "data": {
      "image/png": "[encoded data removed]",
      "text/plain": [
       "<Figure size 720x432 with 1 Axes>"
      ]
     },
     "metadata": {
      "needs_background": "light"
     },
     "output_type": "display_data"
    }
   ],
   "source": [
    "Old = RestaurantData.loc[RestaurantData.Rating != '-']\n",
    "New = RestaurantData.loc[RestaurantData.Rating == '-']\n",
    "Old.Rating = Old.Rating.astype(np.float64)\n",
    "a = []\n",
    "for n in category:\n",
    "    X = Old.loc[Old[n] == 1]\n",
    "    mean = np.mean(X.Rating)\n",
    "    a.append(mean)\n",
    "average_rating = pd.Series(a, index=category, name='Average rating')\n",
    "average_rating = average_rating.sort_values(ascending=False)\n",
    "\n",
    "# Set the width and height of the figure\n",
    "plt.figure(figsize=(10,6))\n",
    "\n",
    "# Add title\n",
    "plt.title(\"Average rating for different type of Cuisines: Top 10\")\n",
    "sns.barplot(x=average_rating.index[:10], y=average_rating[:10])"
   ]
  },
  {
   "cell_type": "code",
   "execution_count": 419,
   "metadata": {},
   "outputs": [
    {
     "data": {
      "text/plain": [
       "<matplotlib.axes._subplots.AxesSubplot at 0x7ffd8be08c10>"
      ]
     },
     "execution_count": 419,
     "metadata": {},
     "output_type": "execute_result"
    },
    {
     "data": {
      "image/png": "[encoded data removed]",
      "text/plain": [
       "<Figure size 720x432 with 1 Axes>"
      ]
     },
     "metadata": {
      "needs_background": "light"
     },
     "output_type": "display_data"
    }
   ],
   "source": [
    "Old = RestaurantData.loc[RestaurantData.Rating != '-']\n",
    "Old.Rating = Old.Rating.astype(np.float64)\n",
    "a = []\n",
    "for n in category:\n",
    "    X = Old.loc[Old[n] == 1]\n",
    "    mean = np.mean(X.Reviews)\n",
    "    a.append(mean)\n",
    "average_reviews = pd.Series(a, index=category, name='Average number of reviews')\n",
    "average_reviews = average_reviews.sort_values(ascending=False)\n",
    "\n",
    "# Set the width and height of the figure\n",
    "plt.figure(figsize=(10,6))\n",
    "\n",
    "# Add title\n",
    "plt.title(\"Average number of reviews for different type of Cuisines: Top 10\")\n",
    "sns.barplot(x=average_reviews.index[:10], y=average_reviews[:10])"
   ]
  },
  {
   "cell_type": "code",
   "execution_count": 420,
   "metadata": {},
   "outputs": [
    {
     "data": {
      "text/plain": [
       "<matplotlib.axes._subplots.AxesSubplot at 0x7ffd8bca3550>"
      ]
     },
     "execution_count": 420,
     "metadata": {},
     "output_type": "execute_result"
    },
    {
     "data": {
      "image/png": "[encoded data removed]",
      "text/plain": [
       "<Figure size 720x432 with 1 Axes>"
      ]
     },
     "metadata": {
      "needs_background": "light"
     },
     "output_type": "display_data"
    }
   ],
   "source": [
    "Old.Rating = Old.Rating.astype(np.float64)\n",
    "a = []\n",
    "for n in category:\n",
    "    X = Old.loc[Old[n] == 1]\n",
    "    mean = np.mean(X.Votes)\n",
    "    a.append(mean)\n",
    "average_votes = pd.Series(a, index=category, name='Average number of votes')\n",
    "average_votes = average_votes.sort_values(ascending=False)\n",
    "\n",
    "# Set the width and height of the figure\n",
    "plt.figure(figsize=(10,6))\n",
    "\n",
    "# Add title\n",
    "plt.title(\"Average number of votes for different type of Cuisines: Top 10\")\n",
    "sns.barplot(x=average_votes.index[:10], y=average_votes[:10])"
   ]
  },
  {
   "cell_type": "markdown",
   "metadata": {},
   "source": [
    "Looking at all the 3 graphs, German, Vietnamese, Malaysian and Indonesian food are the most popular types of food with high ratings."
   ]
  },
  {
   "cell_type": "markdown",
   "metadata": {},
   "source": [
    "(1.2) Trending of food:  \n",
    "What types of cuisines have the most number of restaurant"
   ]
  },
  {
   "cell_type": "code",
   "execution_count": 429,
   "metadata": {},
   "outputs": [
    {
     "data": {
      "text/plain": [
       "<matplotlib.axes._subplots.AxesSubplot at 0x7ffd8c24a4f0>"
      ]
     },
     "execution_count": 429,
     "metadata": {},
     "output_type": "execute_result"
    },
    {
     "data": {
      "image/png": "[encoded data removed]",
      "text/plain": [
       "<Figure size 720x432 with 1 Axes>"
      ]
     },
     "metadata": {
      "needs_background": "light"
     },
     "output_type": "display_data"
    }
   ],
   "source": [
    "Old.Rating = Old.Rating.astype(np.float64)\n",
    "a = []\n",
    "for n in category:\n",
    "    X = Old.loc[Old[n] == 1]\n",
    "    c = X.shape[0]\n",
    "    a.append(c)\n",
    "count = pd.Series(a, index=category, name='Number of restaurnants')\n",
    "count = count.sort_values(ascending=False)\n",
    "\n",
    "# Set the width and height of the figure\n",
    "plt.figure(figsize=(10,6))\n",
    "\n",
    "# Add title\n",
    "plt.title(\"ANumber of restaurnants for different type of Cuisines: Top 10\")\n",
    "sns.barplot(x=count.index[:10], y=count[:10])"
   ]
  },
  {
   "cell_type": "markdown",
   "metadata": {},
   "source": [
    "North Indian, Chinese and Fast food are top 3 types based on the total number."
   ]
  },
  {
   "cell_type": "markdown",
   "metadata": {},
   "source": [
    "(2) Rating prediction for restaurants without rating based on restaurant info"
   ]
  },
  {
   "cell_type": "code",
   "execution_count": 421,
   "metadata": {},
   "outputs": [],
   "source": [
    "Old_total = Old.drop(columns=['Restaurant','Cuisines'])\n",
    "Old_y = Old['Rating']\n",
    "Old_x = Old.drop(columns=['Restaurant','Cuisines', 'Rating'])\n",
    "New_y = New['Rating']\n",
    "New_x = New.drop(columns=['Restaurant','Cuisines', 'Rating'])\n",
    "\n",
    "# Model 1: random forest\n",
    "rf0 = RandomForestRegressor(oob_score=True, random_state=20)  \n",
    "rf0.fit(Old_x,Old_y)  \n",
    "# print(rf0.oob_score_)\n",
    "y_predict0 = rf0.predict(New_x)\n",
    "\n",
    "# Model 2: decision tree\n",
    "rf1 = DecisionTreeRegressor()\n",
    "rf1.fit(Old_x,Old_y)\n",
    "y_predict1 = rf1.predict(New_x)\n"
   ]
  },
  {
   "cell_type": "markdown",
   "metadata": {},
   "source": [
    "(3) Estimating average cost based on restaurant info"
   ]
  },
  {
   "cell_type": "code",
   "execution_count": 446,
   "metadata": {},
   "outputs": [
    {
     "data": {
      "text/plain": [
       "<matplotlib.collections.PathCollection at 0x7ffd8d37ac10>"
      ]
     },
     "execution_count": 446,
     "metadata": {},
     "output_type": "execute_result"
    },
    {
     "data": {
      "image/png": "[encoded data removed]",
      "text/plain": [
       "<Figure size 432x288 with 1 Axes>"
      ]
     },
     "metadata": {
      "needs_background": "light"
     },
     "output_type": "display_data"
    }
   ],
   "source": [
    "plt.scatter(Old['Cook_Time'], Old['Average_Cost'],  color='black',s = 1)"
   ]
  },
  {
   "cell_type": "code",
   "execution_count": 447,
   "metadata": {},
   "outputs": [
    {
     "data": {
      "text/plain": [
       "<matplotlib.collections.PathCollection at 0x7ffd8d306be0>"
      ]
     },
     "execution_count": 447,
     "metadata": {},
     "output_type": "execute_result"
    },
    {
     "data": {
      "image/png": "[encoded data removed]",
      "text/plain": [
       "<Figure size 432x288 with 1 Axes>"
      ]
     },
     "metadata": {
      "needs_background": "light"
     },
     "output_type": "display_data"
    }
   ],
   "source": [
    "plt.scatter(Old['Minimum_Order'], Old['Average_Cost'],  color='black',s = 1)"
   ]
  },
  {
   "cell_type": "code",
   "execution_count": 448,
   "metadata": {},
   "outputs": [
    {
     "data": {
      "text/plain": [
       "<matplotlib.collections.PathCollection at 0x7ffd8d473700>"
      ]
     },
     "execution_count": 448,
     "metadata": {},
     "output_type": "execute_result"
    },
    {
     "data": {
      "image/png": "[encoded data removed]",
      "text/plain": [
       "<Figure size 432x288 with 1 Axes>"
      ]
     },
     "metadata": {
      "needs_background": "light"
     },
     "output_type": "display_data"
    }
   ],
   "source": [
    "plt.scatter(Old['Reviews'], Old['Average_Cost'],  color='black',s = 1)"
   ]
  },
  {
   "cell_type": "code",
   "execution_count": 449,
   "metadata": {},
   "outputs": [
    {
     "data": {
      "text/plain": [
       "<matplotlib.collections.PathCollection at 0x7ffd8d5d6c10>"
      ]
     },
     "execution_count": 449,
     "metadata": {},
     "output_type": "execute_result"
    },
    {
     "data": {
      "image/png": "[encoded data removed]",
      "text/plain": [
       "<Figure size 432x288 with 1 Axes>"
      ]
     },
     "metadata": {
      "needs_background": "light"
     },
     "output_type": "display_data"
    }
   ],
   "source": [
    "plt.scatter(Old['Rating'], Old['Average_Cost'],  color='black',s = 1)"
   ]
  },
  {
   "cell_type": "markdown",
   "metadata": {},
   "source": [
    "Leverage a linear regression to conduct estimation:"
   ]
  },
  {
   "cell_type": "code",
   "execution_count": 452,
   "metadata": {},
   "outputs": [
    {
     "name": "stdout",
     "output_type": "stream",
     "text": [
      "                            OLS Regression Results                            \n",
      "==============================================================================\n",
      "Dep. Variable:           Average_Cost   R-squared:                       0.247\n",
      "Model:                            OLS   Adj. R-squared:                  0.245\n",
      "Method:                 Least Squares   F-statistic:                     136.3\n",
      "Date:                Mon, 19 Oct 2020   Prob (F-statistic):          8.58e-101\n",
      "Time:                        20:37:10   Log-Likelihood:                -6499.5\n",
      "No. Observations:                1666   AIC:                         1.301e+04\n",
      "Df Residuals:                    1661   BIC:                         1.304e+04\n",
      "Df Model:                           4                                         \n",
      "Covariance Type:            nonrobust                                         \n",
      "=================================================================================\n",
      "                    coef    std err          t      P>|t|      [0.025      0.975]\n",
      "---------------------------------------------------------------------------------\n",
      "Intercept       -12.2443      2.878     -4.254      0.000     -17.889      -6.599\n",
      "Cook_Time         0.0986      0.025      4.011      0.000       0.050       0.147\n",
      "Minimum_Order     0.0743      0.014      5.406      0.000       0.047       0.101\n",
      "Reviews           0.0132      0.001     13.086      0.000       0.011       0.015\n",
      "Rating            6.6804      0.767      8.707      0.000       5.175       8.185\n",
      "==============================================================================\n",
      "Omnibus:                      969.203   Durbin-Watson:                   1.973\n",
      "Prob(Omnibus):                  0.000   Jarque-Bera (JB):            15398.473\n",
      "Skew:                           2.398   Prob(JB):                         0.00\n",
      "Kurtosis:                      17.100   Cond. No.                     3.52e+03\n",
      "==============================================================================\n",
      "\n",
      "Warnings:\n",
      "[1] Standard Errors assume that the covariance matrix of the errors is correctly specified.\n",
      "[2] The condition number is large, 3.52e+03. This might indicate that there are\n",
      "strong multicollinearity or other numerical problems.\n",
      "Intercept       -12.244281\n",
      "Cook_Time         0.098557\n",
      "Minimum_Order     0.074294\n",
      "Reviews           0.013216\n",
      "Rating            6.680375\n",
      "dtype: float64\n"
     ]
    }
   ],
   "source": [
    "Old.Rating = Old.Rating.astype(np.float64)\n",
    "est = smf.ols(formula='Average_Cost ~ Cook_Time + Minimum_Order + Reviews + Rating', data=Old).fit() #方法二\n",
    "print(est.summary()) #回归结果\n",
    "print(est.params) #系数"
   ]
  },
  {
   "cell_type": "markdown",
   "metadata": {},
   "source": [
    "Clearly, all of the listed variable here will affect the average_cost. Within which, restaurants with higher rating, more reviews, longer cook_time tend to have higher average_cost.  \n",
    "Note: here we delete the votes variable since it is high correlated to the reviews variable."
   ]
  },
  {
   "cell_type": "markdown",
   "metadata": {},
   "source": [
    "(4.1) Clustering restaurant locations to figure out the optimized FoodieX pick up zones for all the food"
   ]
  },
  {
   "cell_type": "code",
   "execution_count": 440,
   "metadata": {},
   "outputs": [
    {
     "data": {
      "text/plain": [
       "<matplotlib.collections.PathCollection at 0x7ffd8cedd490>"
      ]
     },
     "execution_count": 440,
     "metadata": {},
     "output_type": "execute_result"
    },
    {
     "data": {
      "image/png": "[encoded data removed]",
      "text/plain": [
       "<Figure size 432x288 with 1 Axes>"
      ]
     },
     "metadata": {
      "needs_background": "light"
     },
     "output_type": "display_data"
    }
   ],
   "source": [
    "#location of different restaurant\n",
    "RestaurantData_new = RestaurantData\n",
    "plt.scatter(RestaurantData_new.Latitude,RestaurantData_new.Longitude, s=1)"
   ]
  },
  {
   "cell_type": "code",
   "execution_count": 441,
   "metadata": {},
   "outputs": [
    {
     "data": {
      "image/png": "[encoded data removed]",
      "text/plain": [
       "<Figure size 432x288 with 1 Axes>"
      ]
     },
     "metadata": {
      "needs_background": "light"
     },
     "output_type": "display_data"
    }
   ],
   "source": [
    "# choose k\n",
    "SSE = []  \n",
    "maxk = 10\n",
    "for k in range(1, maxk):\n",
    "    estimator = KMeans(n_clusters=k)  \n",
    "    estimator.fit(RestaurantData_new[['Latitude','Longitude']])\n",
    "    SSE.append(estimator.inertia_)\n",
    "X = range(1, maxk)\n",
    "plt.xlabel('k')\n",
    "plt.ylabel('SSE')\n",
    "plt.plot(X, SSE, 'o-')\n",
    "plt.show()\n"
   ]
  },
  {
   "cell_type": "markdown",
   "metadata": {},
   "source": [
    "Let's choose k = 4"
   ]
  },
  {
   "cell_type": "code",
   "execution_count": 442,
   "metadata": {},
   "outputs": [
    {
     "data": {
      "image/png": "[encoded data removed]",
      "text/plain": [
       "<Figure size 432x288 with 1 Axes>"
      ]
     },
     "metadata": {
      "needs_background": "light"
     },
     "output_type": "display_data"
    }
   ],
   "source": [
    "X = RestaurantData_new[['Latitude','Longitude']]\n",
    "kmeans = KMeans(n_clusters=4)\n",
    "kmeans.fit(X)\n",
    "y_kmeans = kmeans.predict(X)\n",
    "#Let's visualize the results by plotting the data colored by these labels. We will also plot the cluster centers as determined by the k-means estimator:\n",
    "\n",
    "plt.scatter(X.iloc[:, 0], X.iloc[:, 1], c=y_kmeans, s=1, cmap='viridis')\n",
    "\n",
    "centers = kmeans.cluster_centers_\n",
    "plt.scatter(centers[:, 0], centers[:, 1], c='red', s=10, alpha=0.5);"
   ]
  },
  {
   "cell_type": "code",
   "execution_count": 444,
   "metadata": {},
   "outputs": [
    {
     "data": {
      "text/plain": [
       "array([[ 39.25445509, -85.243424  ],\n",
       "       [ 39.75444964, -85.74757003],\n",
       "       [ 39.73852967, -85.2450088 ],\n",
       "       [ 39.25411879, -85.75043999]])"
      ]
     },
     "execution_count": 444,
     "metadata": {},
     "output_type": "execute_result"
    }
   ],
   "source": [
    "centers"
   ]
  },
  {
   "cell_type": "markdown",
   "metadata": {},
   "source": [
    "(4.2) Clustering restaurant locations to figure out the optimized FoodieX pick up zones for \"Street Food\""
   ]
  },
  {
   "cell_type": "code",
   "execution_count": 435,
   "metadata": {},
   "outputs": [
    {
     "data": {
      "text/plain": [
       "<matplotlib.collections.PathCollection at 0x7ffd8cb235b0>"
      ]
     },
     "execution_count": 435,
     "metadata": {},
     "output_type": "execute_result"
    },
    {
     "data": {
      "image/png": "[encoded data removed]",
      "text/plain": [
       "<Figure size 432x288 with 1 Axes>"
      ]
     },
     "metadata": {
      "needs_background": "light"
     },
     "output_type": "display_data"
    }
   ],
   "source": [
    "#location of different restaurant\n",
    "RestaurantData_new = RestaurantData.loc[RestaurantData['Street Food'] == 1]\n",
    "plt.scatter(RestaurantData_new.Latitude,RestaurantData_new.Longitude, s=1)"
   ]
  },
  {
   "cell_type": "code",
   "execution_count": 437,
   "metadata": {},
   "outputs": [
    {
     "data": {
      "image/png": "[encoded data removed]",
      "text/plain": [
       "<Figure size 432x288 with 1 Axes>"
      ]
     },
     "metadata": {
      "needs_background": "light"
     },
     "output_type": "display_data"
    }
   ],
   "source": [
    "# choose k\n",
    "SSE = []  \n",
    "maxk = 10\n",
    "for k in range(1, maxk):\n",
    "    estimator = KMeans(n_clusters=k)  \n",
    "    estimator.fit(RestaurantData_new[['Latitude','Longitude']])\n",
    "    SSE.append(estimator.inertia_)\n",
    "X = range(1, maxk)\n",
    "plt.xlabel('k')\n",
    "plt.ylabel('SSE')\n",
    "plt.plot(X, SSE, 'o-')\n",
    "plt.show()\n"
   ]
  },
  {
   "cell_type": "markdown",
   "metadata": {},
   "source": [
    "Let's choose k = 4"
   ]
  },
  {
   "cell_type": "code",
   "execution_count": 439,
   "metadata": {},
   "outputs": [
    {
     "data": {
      "image/png": "[encoded data removed]",
      "text/plain": [
       "<Figure size 432x288 with 1 Axes>"
      ]
     },
     "metadata": {
      "needs_background": "light"
     },
     "output_type": "display_data"
    }
   ],
   "source": [
    "X = RestaurantData_new[['Latitude','Longitude']]\n",
    "kmeans = KMeans(n_clusters=4)\n",
    "kmeans.fit(X)\n",
    "y_kmeans = kmeans.predict(X)\n",
    "#Let's visualize the results by plotting the data colored by these labels. We will also plot the cluster centers as determined by the k-means estimator:\n",
    "\n",
    "plt.scatter(X.iloc[:, 0], X.iloc[:, 1], c=y_kmeans, s=1, cmap='viridis')\n",
    "\n",
    "centers = kmeans.cluster_centers_\n",
    "plt.scatter(centers[:, 0], centers[:, 1], c='red', s=10, alpha=0.5);"
   ]
  },
  {
   "cell_type": "code",
   "execution_count": 209,
   "metadata": {},
   "outputs": [
    {
     "data": {
      "text/plain": [
       "array([[ 39.75153974, -85.75391188],\n",
       "       [ 39.25596266, -85.24252834],\n",
       "       [ 39.74228255, -85.25142658],\n",
       "       [ 39.25316086, -85.74962225]])"
      ]
     },
     "execution_count": 209,
     "metadata": {},
     "output_type": "execute_result"
    }
   ],
   "source": [
    "centers"
   ]
  },
  {
   "cell_type": "code",
   "execution_count": null,
   "metadata": {},
   "outputs": [],
   "source": []
  }
 ],
 "metadata": {
  "kernelspec": {
   "display_name": "Python 3",
   "language": "python",
   "name": "python3"
  },
  "language_info": {
   "codemirror_mode": {
    "name": "ipython",
    "version": 3
   },
   "file_extension": ".py",
   "mimetype": "text/x-python",
   "name": "python",
   "nbconvert_exporter": "python",
   "pygments_lexer": "ipython3",
   "version": "3.8.3"
  }
 },
 "nbformat": 4,
 "nbformat_minor": 4
}
